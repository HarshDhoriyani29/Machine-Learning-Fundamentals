{
 "cells": [
  {
   "cell_type": "markdown",
   "id": "f4ea3835-2f28-4636-a8e5-096dc5455b53",
   "metadata": {},
   "source": [
    "# Topics : "
   ]
  },
  {
   "cell_type": "markdown",
   "id": "b6be874f-79c3-4413-a208-05fb82bea395",
   "metadata": {},
   "source": [
    "### 1. Arithmetic Operations"
   ]
  },
  {
   "cell_type": "markdown",
   "id": "fc9d702c-c7ae-4250-aaea-3a7aef5cfc01",
   "metadata": {},
   "source": [
    "### 2. Data Types"
   ]
  },
  {
   "cell_type": "markdown",
   "id": "94b6187f-a1d1-450d-8938-e08c6f473466",
   "metadata": {},
   "source": [
    "### 3. Variable Casting"
   ]
  },
  {
   "cell_type": "markdown",
   "id": "c47ba2dc-769a-4cd6-9e37-f928a7eec801",
   "metadata": {},
   "source": [
    "### 4. String Operations"
   ]
  },
  {
   "cell_type": "markdown",
   "id": "81f897be-484e-4dd3-b52d-199184e27ac4",
   "metadata": {},
   "source": [
    "### 5. String Slicing"
   ]
  },
  {
   "cell_type": "markdown",
   "id": "4629771c-70ee-4fa2-9e5a-de10756ace06",
   "metadata": {
    "jp-MarkdownHeadingCollapsed": true
   },
   "source": [
    "### 6. String Formatting and Modification"
   ]
  },
  {
   "cell_type": "code",
   "execution_count": 13,
   "id": "f2a1d5c4-dc44-4023-9843-3e6b6e62b98b",
   "metadata": {},
   "outputs": [
    {
     "data": {
      "text/plain": [
       "'MACHINE LEARNING COURSE FROM UDEMY AT FREE OF COST   '"
      ]
     },
     "execution_count": 13,
     "metadata": {},
     "output_type": "execute_result"
    }
   ],
   "source": [
    "b = \"Machine Learning Course from Udemy at free of cost   \"\n",
    "b.upper()\n"
   ]
  },
  {
   "cell_type": "code",
   "execution_count": 15,
   "id": "188a10c8-c550-4440-b436-71e91d76face",
   "metadata": {},
   "outputs": [
    {
     "data": {
      "text/plain": [
       "'Machine Learning Course From Udemy At Free Of Cost   '"
      ]
     },
     "execution_count": 15,
     "metadata": {},
     "output_type": "execute_result"
    }
   ],
   "source": [
    "b.title()"
   ]
  },
  {
   "cell_type": "code",
   "execution_count": 14,
   "id": "4363a740-175d-4bbc-b13e-51369c62806a",
   "metadata": {},
   "outputs": [
    {
     "data": {
      "text/plain": [
       "'machine learning course from udemy at free of cost   '"
      ]
     },
     "execution_count": 14,
     "metadata": {},
     "output_type": "execute_result"
    }
   ],
   "source": [
    "b.lower()"
   ]
  },
  {
   "cell_type": "code",
   "execution_count": 17,
   "id": "3372fd89-c24a-4cf0-b52c-97af97e1bd4e",
   "metadata": {},
   "outputs": [
    {
     "data": {
      "text/plain": [
       "'Machine Learning Course from Udemy at free of cost'"
      ]
     },
     "execution_count": 17,
     "metadata": {},
     "output_type": "execute_result"
    }
   ],
   "source": [
    "b.strip() # Last white spaces are being removed by this function"
   ]
  },
  {
   "cell_type": "code",
   "execution_count": 18,
   "id": "86ecba1c-dd38-4d46-b176-ae6b361b2f02",
   "metadata": {},
   "outputs": [
    {
     "data": {
      "text/plain": [
       "'MachinewLearningwCoursewfromwUdemywatwfreewofwcostwww'"
      ]
     },
     "execution_count": 18,
     "metadata": {},
     "output_type": "execute_result"
    }
   ],
   "source": [
    "b.replace(\" \", \"w\")"
   ]
  },
  {
   "cell_type": "code",
   "execution_count": 19,
   "id": "41e8c315-f08c-43f4-aaf3-84ea3ed65b72",
   "metadata": {},
   "outputs": [
    {
     "data": {
      "text/plain": [
       "'Machine Learning Course from Udemy at free of cost   '"
      ]
     },
     "execution_count": 19,
     "metadata": {},
     "output_type": "execute_result"
    }
   ],
   "source": [
    "b"
   ]
  },
  {
   "cell_type": "code",
   "execution_count": 21,
   "id": "69633a52-3e1e-4e37-b9dc-23b50fe439cb",
   "metadata": {},
   "outputs": [],
   "source": [
    "age = 18\n",
    "text = \"My age is \" "
   ]
  },
  {
   "cell_type": "code",
   "execution_count": 22,
   "id": "ed520536-9faa-4bfb-96ea-f3687a12ad07",
   "metadata": {},
   "outputs": [
    {
     "data": {
      "text/plain": [
       "'My age is 18'"
      ]
     },
     "execution_count": 22,
     "metadata": {},
     "output_type": "execute_result"
    }
   ],
   "source": [
    "text + str(age)"
   ]
  },
  {
   "cell_type": "code",
   "execution_count": 25,
   "id": "c8e35b73-3b36-407f-8c78-b64b1f3c94d3",
   "metadata": {},
   "outputs": [
    {
     "data": {
      "text/plain": [
       "'My age is 18'"
      ]
     },
     "execution_count": 25,
     "metadata": {},
     "output_type": "execute_result"
    }
   ],
   "source": [
    "text = \"My age is {}\".format(age)\n",
    "text"
   ]
  },
  {
   "cell_type": "markdown",
   "id": "413786d4-bc1b-462a-84fe-88e3b6fe5d16",
   "metadata": {},
   "source": []
  },
  {
   "cell_type": "markdown",
   "id": "abb2df38-02ad-43c9-bf16-4605f1d480fc",
   "metadata": {},
   "source": [
    "### 7. Boolean Variables and Evaluation"
   ]
  },
  {
   "cell_type": "markdown",
   "id": "e3da52aa-50d7-4cb2-934a-f2f7391e9cc7",
   "metadata": {},
   "source": []
  },
  {
   "cell_type": "markdown",
   "id": "b3361feb-d7da-44a8-afd3-866be3135faa",
   "metadata": {},
   "source": []
  }
 ],
 "metadata": {
  "kernelspec": {
   "display_name": "Python 3 (ipykernel)",
   "language": "python",
   "name": "python3"
  },
  "language_info": {
   "codemirror_mode": {
    "name": "ipython",
    "version": 3
   },
   "file_extension": ".py",
   "mimetype": "text/x-python",
   "name": "python",
   "nbconvert_exporter": "python",
   "pygments_lexer": "ipython3",
   "version": "3.11.7"
  }
 },
 "nbformat": 4,
 "nbformat_minor": 5
}
